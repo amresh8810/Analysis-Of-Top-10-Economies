{
    "cells": [
        {
            "attachments": {},
            "cell_type": "markdown",
            "metadata": {
                "azdata_cell_guid": "217d8a40-fbec-46f4-8be0-e93cca92933b"
            },
            "source": [
                "# This Project represents the analysis of the top 10 economies of the world and the comparison between different aspects."
            ]
        },
        {
            "attachments": {},
            "cell_type": "markdown",
            "metadata": {
                "azdata_cell_guid": "690559c9-5312-40dd-b331-5c9ecccdde74"
            },
            "source": [
                "## Top 10 Economies Of The World"
            ]
        },
        {
            "cell_type": "code",
            "execution_count": null,
            "metadata": {
                "azdata_cell_guid": "3b931f2b-8588-4ac6-b2ec-f7ce1cb85a80",
                "language": "sql"
            },
            "outputs": [
                {
                    "data": {
                        "text/html": [
                            "(10 rows affected)"
                        ]
                    },
                    "metadata": {},
                    "output_type": "display_data"
                },
                {
                    "data": {
                        "text/html": [
                            "Total execution time: 00:00:00.011"
                        ]
                    },
                    "metadata": {},
                    "output_type": "display_data"
                },
                {
                    "data": {
                        "application/vnd.dataresource+json": {
                            "data": [
                                {
                                    "Country Name": "United States",
                                    "GDP In Trillon": "25.46"
                                },
                                {
                                    "Country Name": "China",
                                    "GDP In Trillon": "17.96"
                                },
                                {
                                    "Country Name": "Japan",
                                    "GDP In Trillon": "4.23"
                                },
                                {
                                    "Country Name": "Germany",
                                    "GDP In Trillon": "4.07"
                                },
                                {
                                    "Country Name": "India",
                                    "GDP In Trillon": "3.39"
                                },
                                {
                                    "Country Name": "United Kingdom",
                                    "GDP In Trillon": "3.07"
                                },
                                {
                                    "Country Name": "France",
                                    "GDP In Trillon": "2.78"
                                },
                                {
                                    "Country Name": "Russian Federation",
                                    "GDP In Trillon": "2.24"
                                },
                                {
                                    "Country Name": "Canada",
                                    "GDP In Trillon": "2.14"
                                },
                                {
                                    "Country Name": "Italy",
                                    "GDP In Trillon": "2.01"
                                }
                            ],
                            "schema": {
                                "fields": [
                                    {
                                        "name": "Country Name"
                                    },
                                    {
                                        "name": "GDP In Trillon"
                                    }
                                ]
                            }
                        },
                        "text/html": [
                            "<table>\n",
                            "<tr><th>Country Name</th><th>GDP In Trillon</th></tr>\n",
                            "<tr><td>United States</td><td>25.46</td></tr>\n",
                            "<tr><td>China</td><td>17.96</td></tr>\n",
                            "<tr><td>Japan</td><td>4.23</td></tr>\n",
                            "<tr><td>Germany</td><td>4.07</td></tr>\n",
                            "<tr><td>India</td><td>3.39</td></tr>\n",
                            "<tr><td>United Kingdom</td><td>3.07</td></tr>\n",
                            "<tr><td>France</td><td>2.78</td></tr>\n",
                            "<tr><td>Russian Federation</td><td>2.24</td></tr>\n",
                            "<tr><td>Canada</td><td>2.14</td></tr>\n",
                            "<tr><td>Italy</td><td>2.01</td></tr>\n",
                            "</table>"
                        ]
                    },
                    "execution_count": 4,
                    "metadata": {},
                    "output_type": "execute_result"
                }
            ],
            "source": [
                "Select TOP 10 Country_Name as 'Country Name', round((GDP/1000000000000),2) as 'GDP In Trillon'\n",
                "from Countries\n",
                "where Year = 2022\n",
                "order by 2 desc"
            ]
        },
        {
            "attachments": {},
            "cell_type": "markdown",
            "metadata": {
                "azdata_cell_guid": "b6adbfdf-4c41-4b22-8473-2ac409635651"
            },
            "source": [
                "## GDP Per Capita Growth Of Top 10 Economies From the Year 2000"
            ]
        },
        {
            "cell_type": "code",
            "execution_count": 5,
            "metadata": {
                "azdata_cell_guid": "4dbf24fd-d0dc-4447-8982-de23d8df7e40",
                "language": "sql"
            },
            "outputs": [
                {
                    "data": {
                        "text/html": [
                            "(230 rows affected)"
                        ]
                    },
                    "metadata": {},
                    "output_type": "display_data"
                },
                {
                    "data": {
                        "text/html": [
                            "Total execution time: 00:00:00.016"
                        ]
                    },
                    "metadata": {},
                    "output_type": "display_data"
                },
                {
                    "data": {
                        "application/vnd.dataresource+json": {
                            "data": [
                                {
                                    "GDP Per Capita": "24271",
                                    "Year": "2000",
                                    "country_Name": "Canada"
                                },
                                {
                                    "GDP Per Capita": "23821",
                                    "Year": "2001",
                                    "country_Name": "Canada"
                                },
                                {
                                    "GDP Per Capita": "24255",
                                    "Year": "2002",
                                    "country_Name": "Canada"
                                },
                                {
                                    "GDP Per Capita": "28300",
                                    "Year": "2003",
                                    "country_Name": "Canada"
                                },
                                {
                                    "GDP Per Capita": "32144",
                                    "Year": "2004",
                                    "country_Name": "Canada"
                                },
                                {
                                    "GDP Per Capita": "36383",
                                    "Year": "2005",
                                    "country_Name": "Canada"
                                },
                                {
                                    "GDP Per Capita": "40504",
                                    "Year": "2006",
                                    "country_Name": "Canada"
                                },
                                {
                                    "GDP Per Capita": "44660",
                                    "Year": "2007",
                                    "country_Name": "Canada"
                                },
                                {
                                    "GDP Per Capita": "46711",
                                    "Year": "2008",
                                    "country_Name": "Canada"
                                },
                                {
                                    "GDP Per Capita": "40876",
                                    "Year": "2009",
                                    "country_Name": "Canada"
                                },
                                {
                                    "GDP Per Capita": "47562",
                                    "Year": "2010",
                                    "country_Name": "Canada"
                                },
                                {
                                    "GDP Per Capita": "52224",
                                    "Year": "2011",
                                    "country_Name": "Canada"
                                },
                                {
                                    "GDP Per Capita": "52669",
                                    "Year": "2012",
                                    "country_Name": "Canada"
                                },
                                {
                                    "GDP Per Capita": "52635",
                                    "Year": "2013",
                                    "country_Name": "Canada"
                                },
                                {
                                    "GDP Per Capita": "50956",
                                    "Year": "2014",
                                    "country_Name": "Canada"
                                },
                                {
                                    "GDP Per Capita": "43596",
                                    "Year": "2015",
                                    "country_Name": "Canada"
                                },
                                {
                                    "GDP Per Capita": "42316",
                                    "Year": "2016",
                                    "country_Name": "Canada"
                                },
                                {
                                    "GDP Per Capita": "45129",
                                    "Year": "2017",
                                    "country_Name": "Canada"
                                },
                                {
                                    "GDP Per Capita": "46548",
                                    "Year": "2018",
                                    "country_Name": "Canada"
                                },
                                {
                                    "GDP Per Capita": "46374",
                                    "Year": "2019",
                                    "country_Name": "Canada"
                                },
                                {
                                    "GDP Per Capita": "43350",
                                    "Year": "2020",
                                    "country_Name": "Canada"
                                },
                                {
                                    "GDP Per Capita": "52359",
                                    "Year": "2021",
                                    "country_Name": "Canada"
                                },
                                {
                                    "GDP Per Capita": "54966",
                                    "Year": "2022",
                                    "country_Name": "Canada"
                                },
                                {
                                    "GDP Per Capita": "959",
                                    "Year": "2000",
                                    "country_Name": "China"
                                },
                                {
                                    "GDP Per Capita": "1053",
                                    "Year": "2001",
                                    "country_Name": "China"
                                },
                                {
                                    "GDP Per Capita": "1149",
                                    "Year": "2002",
                                    "country_Name": "China"
                                },
                                {
                                    "GDP Per Capita": "1289",
                                    "Year": "2003",
                                    "country_Name": "China"
                                },
                                {
                                    "GDP Per Capita": "1509",
                                    "Year": "2004",
                                    "country_Name": "China"
                                },
                                {
                                    "GDP Per Capita": "1753",
                                    "Year": "2005",
                                    "country_Name": "China"
                                },
                                {
                                    "GDP Per Capita": "2099",
                                    "Year": "2006",
                                    "country_Name": "China"
                                },
                                {
                                    "GDP Per Capita": "2694",
                                    "Year": "2007",
                                    "country_Name": "China"
                                },
                                {
                                    "GDP Per Capita": "3468",
                                    "Year": "2008",
                                    "country_Name": "China"
                                },
                                {
                                    "GDP Per Capita": "3832",
                                    "Year": "2009",
                                    "country_Name": "China"
                                },
                                {
                                    "GDP Per Capita": "4550",
                                    "Year": "2010",
                                    "country_Name": "China"
                                },
                                {
                                    "GDP Per Capita": "5614",
                                    "Year": "2011",
                                    "country_Name": "China"
                                },
                                {
                                    "GDP Per Capita": "6301",
                                    "Year": "2012",
                                    "country_Name": "China"
                                },
                                {
                                    "GDP Per Capita": "7020",
                                    "Year": "2013",
                                    "country_Name": "China"
                                },
                                {
                                    "GDP Per Capita": "7636",
                                    "Year": "2014",
                                    "country_Name": "China"
                                },
                                {
                                    "GDP Per Capita": "8016",
                                    "Year": "2015",
                                    "country_Name": "China"
                                },
                                {
                                    "GDP Per Capita": "8094",
                                    "Year": "2016",
                                    "country_Name": "China"
                                },
                                {
                                    "GDP Per Capita": "8817",
                                    "Year": "2017",
                                    "country_Name": "China"
                                },
                                {
                                    "GDP Per Capita": "9905",
                                    "Year": "2018",
                                    "country_Name": "China"
                                },
                                {
                                    "GDP Per Capita": "10144",
                                    "Year": "2019",
                                    "country_Name": "China"
                                },
                                {
                                    "GDP Per Capita": "10409",
                                    "Year": "2020",
                                    "country_Name": "China"
                                },
                                {
                                    "GDP Per Capita": "12618",
                                    "Year": "2021",
                                    "country_Name": "China"
                                },
                                {
                                    "GDP Per Capita": "12720",
                                    "Year": "2022",
                                    "country_Name": "China"
                                },
                                {
                                    "GDP Per Capita": "22416",
                                    "Year": "2000",
                                    "country_Name": "France"
                                },
                                {
                                    "GDP Per Capita": "22449",
                                    "Year": "2001",
                                    "country_Name": "France"
                                },
                                {
                                    "GDP Per Capita": "24288",
                                    "Year": "2002",
                                    "country_Name": "France"
                                },
                                {
                                    "GDP Per Capita": "29628",
                                    "Year": "2003",
                                    "country_Name": "France"
                                },
                                {
                                    "GDP Per Capita": "33797",
                                    "Year": "2004",
                                    "country_Name": "France"
                                },
                                {
                                    "GDP Per Capita": "34768",
                                    "Year": "2005",
                                    "country_Name": "France"
                                },
                                {
                                    "GDP Per Capita": "36470",
                                    "Year": "2006",
                                    "country_Name": "France"
                                },
                                {
                                    "GDP Per Capita": "41558",
                                    "Year": "2007",
                                    "country_Name": "France"
                                },
                                {
                                    "GDP Per Capita": "45516",
                                    "Year": "2008",
                                    "country_Name": "France"
                                },
                                {
                                    "GDP Per Capita": "41738",
                                    "Year": "2009",
                                    "country_Name": "France"
                                },
                                {
                                    "GDP Per Capita": "40676",
                                    "Year": "2010",
                                    "country_Name": "France"
                                },
                                {
                                    "GDP Per Capita": "43846",
                                    "Year": "2011",
                                    "country_Name": "France"
                                },
                                {
                                    "GDP Per Capita": "40871",
                                    "Year": "2012",
                                    "country_Name": "France"
                                },
                                {
                                    "GDP Per Capita": "42603",
                                    "Year": "2013",
                                    "country_Name": "France"
                                },
                                {
                                    "GDP Per Capita": "43069",
                                    "Year": "2014",
                                    "country_Name": "France"
                                },
                                {
                                    "GDP Per Capita": "36653",
                                    "Year": "2015",
                                    "country_Name": "France"
                                },
                                {
                                    "GDP Per Capita": "37063",
                                    "Year": "2016",
                                    "country_Name": "France"
                                },
                                {
                                    "GDP Per Capita": "38781",
                                    "Year": "2017",
                                    "country_Name": "France"
                                },
                                {
                                    "GDP Per Capita": "41558",
                                    "Year": "2018",
                                    "country_Name": "France"
                                },
                                {
                                    "GDP Per Capita": "40495",
                                    "Year": "2019",
                                    "country_Name": "France"
                                },
                                {
                                    "GDP Per Capita": "39055",
                                    "Year": "2020",
                                    "country_Name": "France"
                                },
                                {
                                    "GDP Per Capita": "43659",
                                    "Year": "2021",
                                    "country_Name": "France"
                                },
                                {
                                    "GDP Per Capita": "40964",
                                    "Year": "2022",
                                    "country_Name": "France"
                                },
                                {
                                    "GDP Per Capita": "23695",
                                    "Year": "2000",
                                    "country_Name": "Germany"
                                },
                                {
                                    "GDP Per Capita": "23628",
                                    "Year": "2001",
                                    "country_Name": "Germany"
                                },
                                {
                                    "GDP Per Capita": "25197",
                                    "Year": "2002",
                                    "country_Name": "Germany"
                                },
                                {
                                    "GDP Per Capita": "30310",
                                    "Year": "2003",
                                    "country_Name": "Germany"
                                },
                                {
                                    "GDP Per Capita": "34107",
                                    "Year": "2004",
                                    "country_Name": "Germany"
                                },
                                {
                                    "GDP Per Capita": "34520",
                                    "Year": "2005",
                                    "country_Name": "Germany"
                                },
                                {
                                    "GDP Per Capita": "36354",
                                    "Year": "2006",
                                    "country_Name": "Germany"
                                },
                                {
                                    "GDP Per Capita": "41640",
                                    "Year": "2007",
                                    "country_Name": "Germany"
                                },
                                {
                                    "GDP Per Capita": "45613",
                                    "Year": "2008",
                                    "country_Name": "Germany"
                                },
                                {
                                    "GDP Per Capita": "41650",
                                    "Year": "2009",
                                    "country_Name": "Germany"
                                },
                                {
                                    "GDP Per Capita": "41572",
                                    "Year": "2010",
                                    "country_Name": "Germany"
                                },
                                {
                                    "GDP Per Capita": "46706",
                                    "Year": "2011",
                                    "country_Name": "Germany"
                                },
                                {
                                    "GDP Per Capita": "43856",
                                    "Year": "2012",
                                    "country_Name": "Germany"
                                },
                                {
                                    "GDP Per Capita": "46299",
                                    "Year": "2013",
                                    "country_Name": "Germany"
                                },
                                {
                                    "GDP Per Capita": "48024",
                                    "Year": "2014",
                                    "country_Name": "Germany"
                                },
                                {
                                    "GDP Per Capita": "41103",
                                    "Year": "2015",
                                    "country_Name": "Germany"
                                },
                                {
                                    "GDP Per Capita": "42136",
                                    "Year": "2016",
                                    "country_Name": "Germany"
                                },
                                {
                                    "GDP Per Capita": "44653",
                                    "Year": "2017",
                                    "country_Name": "Germany"
                                },
                                {
                                    "GDP Per Capita": "47939",
                                    "Year": "2018",
                                    "country_Name": "Germany"
                                },
                                {
                                    "GDP Per Capita": "46794",
                                    "Year": "2019",
                                    "country_Name": "Germany"
                                },
                                {
                                    "GDP Per Capita": "46773",
                                    "Year": "2020",
                                    "country_Name": "Germany"
                                },
                                {
                                    "GDP Per Capita": "51204",
                                    "Year": "2021",
                                    "country_Name": "Germany"
                                },
                                {
                                    "GDP Per Capita": "48432",
                                    "Year": "2022",
                                    "country_Name": "Germany"
                                },
                                {
                                    "GDP Per Capita": "442",
                                    "Year": "2000",
                                    "country_Name": "India"
                                },
                                {
                                    "GDP Per Capita": "450",
                                    "Year": "2001",
                                    "country_Name": "India"
                                },
                                {
                                    "GDP Per Capita": "469",
                                    "Year": "2002",
                                    "country_Name": "India"
                                },
                                {
                                    "GDP Per Capita": "544",
                                    "Year": "2003",
                                    "country_Name": "India"
                                },
                                {
                                    "GDP Per Capita": "624",
                                    "Year": "2004",
                                    "country_Name": "India"
                                },
                                {
                                    "GDP Per Capita": "711",
                                    "Year": "2005",
                                    "country_Name": "India"
                                },
                                {
                                    "GDP Per Capita": "802",
                                    "Year": "2006",
                                    "country_Name": "India"
                                },
                                {
                                    "GDP Per Capita": "1023",
                                    "Year": "2007",
                                    "country_Name": "India"
                                },
                                {
                                    "GDP Per Capita": "994",
                                    "Year": "2008",
                                    "country_Name": "India"
                                },
                                {
                                    "GDP Per Capita": "1097",
                                    "Year": "2009",
                                    "country_Name": "India"
                                },
                                {
                                    "GDP Per Capita": "1351",
                                    "Year": "2010",
                                    "country_Name": "India"
                                },
                                {
                                    "GDP Per Capita": "1450",
                                    "Year": "2011",
                                    "country_Name": "India"
                                },
                                {
                                    "GDP Per Capita": "1434",
                                    "Year": "2012",
                                    "country_Name": "India"
                                },
                                {
                                    "GDP Per Capita": "1438",
                                    "Year": "2013",
                                    "country_Name": "India"
                                },
                                {
                                    "GDP Per Capita": "1560",
                                    "Year": "2014",
                                    "country_Name": "India"
                                },
                                {
                                    "GDP Per Capita": "1590",
                                    "Year": "2015",
                                    "country_Name": "India"
                                },
                                {
                                    "GDP Per Capita": "1714",
                                    "Year": "2016",
                                    "country_Name": "India"
                                },
                                {
                                    "GDP Per Capita": "1958",
                                    "Year": "2017",
                                    "country_Name": "India"
                                },
                                {
                                    "GDP Per Capita": "1974",
                                    "Year": "2018",
                                    "country_Name": "India"
                                },
                                {
                                    "GDP Per Capita": "2050",
                                    "Year": "2019",
                                    "country_Name": "India"
                                },
                                {
                                    "GDP Per Capita": "1913",
                                    "Year": "2020",
                                    "country_Name": "India"
                                },
                                {
                                    "GDP Per Capita": "2238",
                                    "Year": "2021",
                                    "country_Name": "India"
                                },
                                {
                                    "GDP Per Capita": "2389",
                                    "Year": "2022",
                                    "country_Name": "India"
                                },
                                {
                                    "GDP Per Capita": "20138",
                                    "Year": "2000",
                                    "country_Name": "Italy"
                                },
                                {
                                    "GDP Per Capita": "20501",
                                    "Year": "2001",
                                    "country_Name": "Italy"
                                },
                                {
                                    "GDP Per Capita": "22376",
                                    "Year": "2002",
                                    "country_Name": "Italy"
                                },
                                {
                                    "GDP Per Capita": "27526",
                                    "Year": "2003",
                                    "country_Name": "Italy"
                                },
                                {
                                    "GDP Per Capita": "31317",
                                    "Year": "2004",
                                    "country_Name": "Italy"
                                },
                                {
                                    "GDP Per Capita": "32055",
                                    "Year": "2005",
                                    "country_Name": "Italy"
                                },
                                {
                                    "GDP Per Capita": "33530",
                                    "Year": "2006",
                                    "country_Name": "Italy"
                                },
                                {
                                    "GDP Per Capita": "37871",
                                    "Year": "2007",
                                    "country_Name": "Italy"
                                },
                                {
                                    "GDP Per Capita": "40945",
                                    "Year": "2008",
                                    "country_Name": "Italy"
                                },
                                {
                                    "GDP Per Capita": "37227",
                                    "Year": "2009",
                                    "country_Name": "Italy"
                                },
                                {
                                    "GDP Per Capita": "36036",
                                    "Year": "2010",
                                    "country_Name": "Italy"
                                },
                                {
                                    "GDP Per Capita": "38650",
                                    "Year": "2011",
                                    "country_Name": "Italy"
                                },
                                {
                                    "GDP Per Capita": "35052",
                                    "Year": "2012",
                                    "country_Name": "Italy"
                                },
                                {
                                    "GDP Per Capita": "35560",
                                    "Year": "2013",
                                    "country_Name": "Italy"
                                },
                                {
                                    "GDP Per Capita": "35566",
                                    "Year": "2014",
                                    "country_Name": "Italy"
                                },
                                {
                                    "GDP Per Capita": "30242",
                                    "Year": "2015",
                                    "country_Name": "Italy"
                                },
                                {
                                    "GDP Per Capita": "30961",
                                    "Year": "2016",
                                    "country_Name": "Italy"
                                },
                                {
                                    "GDP Per Capita": "32407",
                                    "Year": "2017",
                                    "country_Name": "Italy"
                                },
                                {
                                    "GDP Per Capita": "34622",
                                    "Year": "2018",
                                    "country_Name": "Italy"
                                },
                                {
                                    "GDP Per Capita": "33674",
                                    "Year": "2019",
                                    "country_Name": "Italy"
                                },
                                {
                                    "GDP Per Capita": "31919",
                                    "Year": "2020",
                                    "country_Name": "Italy"
                                },
                                {
                                    "GDP Per Capita": "35770",
                                    "Year": "2021",
                                    "country_Name": "Italy"
                                },
                                {
                                    "GDP Per Capita": "34158",
                                    "Year": "2022",
                                    "country_Name": "Italy"
                                },
                                {
                                    "GDP Per Capita": "39169",
                                    "Year": "2000",
                                    "country_Name": "Japan"
                                },
                                {
                                    "GDP Per Capita": "34406",
                                    "Year": "2001",
                                    "country_Name": "Japan"
                                },
                                {
                                    "GDP Per Capita": "32821",
                                    "Year": "2002",
                                    "country_Name": "Japan"
                                },
                                {
                                    "GDP Per Capita": "35387",
                                    "Year": "2003",
                                    "country_Name": "Japan"
                                },
                                {
                                    "GDP Per Capita": "38299",
                                    "Year": "2004",
                                    "country_Name": "Japan"
                                },
                                {
                                    "GDP Per Capita": "37813",
                                    "Year": "2005",
                                    "country_Name": "Japan"
                                },
                                {
                                    "GDP Per Capita": "35992",
                                    "Year": "2006",
                                    "country_Name": "Japan"
                                },
                                {
                                    "GDP Per Capita": "35779",
                                    "Year": "2007",
                                    "country_Name": "Japan"
                                },
                                {
                                    "GDP Per Capita": "39876",
                                    "Year": "2008",
                                    "country_Name": "Japan"
                                },
                                {
                                    "GDP Per Capita": "41309",
                                    "Year": "2009",
                                    "country_Name": "Japan"
                                },
                                {
                                    "GDP Per Capita": "44968",
                                    "Year": "2010",
                                    "country_Name": "Japan"
                                },
                                {
                                    "GDP Per Capita": "48760",
                                    "Year": "2011",
                                    "country_Name": "Japan"
                                },
                                {
                                    "GDP Per Capita": "49145",
                                    "Year": "2012",
                                    "country_Name": "Japan"
                                },
                                {
                                    "GDP Per Capita": "40899",
                                    "Year": "2013",
                                    "country_Name": "Japan"
                                },
                                {
                                    "GDP Per Capita": "38475",
                                    "Year": "2014",
                                    "country_Name": "Japan"
                                },
                                {
                                    "GDP Per Capita": "34961",
                                    "Year": "2015",
                                    "country_Name": "Japan"
                                },
                                {
                                    "GDP Per Capita": "39375",
                                    "Year": "2016",
                                    "country_Name": "Japan"
                                },
                                {
                                    "GDP Per Capita": "38834",
                                    "Year": "2017",
                                    "country_Name": "Japan"
                                },
                                {
                                    "GDP Per Capita": "39751",
                                    "Year": "2018",
                                    "country_Name": "Japan"
                                },
                                {
                                    "GDP Per Capita": "40416",
                                    "Year": "2019",
                                    "country_Name": "Japan"
                                },
                                {
                                    "GDP Per Capita": "39987",
                                    "Year": "2020",
                                    "country_Name": "Japan"
                                },
                                {
                                    "GDP Per Capita": "39827",
                                    "Year": "2021",
                                    "country_Name": "Japan"
                                },
                                {
                                    "GDP Per Capita": "33815",
                                    "Year": "2022",
                                    "country_Name": "Japan"
                                },
                                {
                                    "GDP Per Capita": "1772",
                                    "Year": "2000",
                                    "country_Name": "Russian Federation"
                                },
                                {
                                    "GDP Per Capita": "2100",
                                    "Year": "2001",
                                    "country_Name": "Russian Federation"
                                },
                                {
                                    "GDP Per Capita": "2378",
                                    "Year": "2002",
                                    "country_Name": "Russian Federation"
                                },
                                {
                                    "GDP Per Capita": "2975",
                                    "Year": "2003",
                                    "country_Name": "Russian Federation"
                                },
                                {
                                    "GDP Per Capita": "4102",
                                    "Year": "2004",
                                    "country_Name": "Russian Federation"
                                },
                                {
                                    "GDP Per Capita": "5323",
                                    "Year": "2005",
                                    "country_Name": "Russian Federation"
                                },
                                {
                                    "GDP Per Capita": "6920",
                                    "Year": "2006",
                                    "country_Name": "Russian Federation"
                                },
                                {
                                    "GDP Per Capita": "9101",
                                    "Year": "2007",
                                    "country_Name": "Russian Federation"
                                },
                                {
                                    "GDP Per Capita": "11635",
                                    "Year": "2008",
                                    "country_Name": "Russian Federation"
                                },
                                {
                                    "GDP Per Capita": "8563",
                                    "Year": "2009",
                                    "country_Name": "Russian Federation"
                                },
                                {
                                    "GDP Per Capita": "10675",
                                    "Year": "2010",
                                    "country_Name": "Russian Federation"
                                },
                                {
                                    "GDP Per Capita": "14311",
                                    "Year": "2011",
                                    "country_Name": "Russian Federation"
                                },
                                {
                                    "GDP Per Capita": "15421",
                                    "Year": "2012",
                                    "country_Name": "Russian Federation"
                                },
                                {
                                    "GDP Per Capita": "15975",
                                    "Year": "2013",
                                    "country_Name": "Russian Federation"
                                },
                                {
                                    "GDP Per Capita": "14318",
                                    "Year": "2014",
                                    "country_Name": "Russian Federation"
                                },
                                {
                                    "GDP Per Capita": "9462",
                                    "Year": "2015",
                                    "country_Name": "Russian Federation"
                                },
                                {
                                    "GDP Per Capita": "8846",
                                    "Year": "2016",
                                    "country_Name": "Russian Federation"
                                },
                                {
                                    "GDP Per Capita": "10894",
                                    "Year": "2017",
                                    "country_Name": "Russian Federation"
                                },
                                {
                                    "GDP Per Capita": "11471",
                                    "Year": "2018",
                                    "country_Name": "Russian Federation"
                                },
                                {
                                    "GDP Per Capita": "11725",
                                    "Year": "2019",
                                    "country_Name": "Russian Federation"
                                },
                                {
                                    "GDP Per Capita": "10363",
                                    "Year": "2020",
                                    "country_Name": "Russian Federation"
                                },
                                {
                                    "GDP Per Capita": "12805",
                                    "Year": "2021",
                                    "country_Name": "Russian Federation"
                                },
                                {
                                    "GDP Per Capita": "15607",
                                    "Year": "2022",
                                    "country_Name": "Russian Federation"
                                },
                                {
                                    "GDP Per Capita": "28290",
                                    "Year": "2000",
                                    "country_Name": "United Kingdom"
                                },
                                {
                                    "GDP Per Capita": "27889",
                                    "Year": "2001",
                                    "country_Name": "United Kingdom"
                                },
                                {
                                    "GDP Per Capita": "30079",
                                    "Year": "2002",
                                    "country_Name": "United Kingdom"
                                },
                                {
                                    "GDP Per Capita": "34481",
                                    "Year": "2003",
                                    "country_Name": "United Kingdom"
                                },
                                {
                                    "GDP Per Capita": "40392",
                                    "Year": "2004",
                                    "country_Name": "United Kingdom"
                                },
                                {
                                    "GDP Per Capita": "42132",
                                    "Year": "2005",
                                    "country_Name": "United Kingdom"
                                },
                                {
                                    "GDP Per Capita": "44538",
                                    "Year": "2006",
                                    "country_Name": "United Kingdom"
                                },
                                {
                                    "GDP Per Capita": "50438",
                                    "Year": "2007",
                                    "country_Name": "United Kingdom"
                                },
                                {
                                    "GDP Per Capita": "47433",
                                    "Year": "2008",
                                    "country_Name": "United Kingdom"
                                },
                                {
                                    "GDP Per Capita": "38820",
                                    "Year": "2009",
                                    "country_Name": "United Kingdom"
                                },
                                {
                                    "GDP Per Capita": "39693",
                                    "Year": "2010",
                                    "country_Name": "United Kingdom"
                                },
                                {
                                    "GDP Per Capita": "42151",
                                    "Year": "2011",
                                    "country_Name": "United Kingdom"
                                },
                                {
                                    "GDP Per Capita": "42486",
                                    "Year": "2012",
                                    "country_Name": "United Kingdom"
                                },
                                {
                                    "GDP Per Capita": "43449",
                                    "Year": "2013",
                                    "country_Name": "United Kingdom"
                                },
                                {
                                    "GDP Per Capita": "47448",
                                    "Year": "2014",
                                    "country_Name": "United Kingdom"
                                },
                                {
                                    "GDP Per Capita": "45071",
                                    "Year": "2015",
                                    "country_Name": "United Kingdom"
                                },
                                {
                                    "GDP Per Capita": "41146",
                                    "Year": "2016",
                                    "country_Name": "United Kingdom"
                                },
                                {
                                    "GDP Per Capita": "40623",
                                    "Year": "2017",
                                    "country_Name": "United Kingdom"
                                },
                                {
                                    "GDP Per Capita": "43306",
                                    "Year": "2018",
                                    "country_Name": "United Kingdom"
                                },
                                {
                                    "GDP Per Capita": "42747",
                                    "Year": "2019",
                                    "country_Name": "United Kingdom"
                                },
                                {
                                    "GDP Per Capita": "40318",
                                    "Year": "2020",
                                    "country_Name": "United Kingdom"
                                },
                                {
                                    "GDP Per Capita": "46586",
                                    "Year": "2021",
                                    "country_Name": "United Kingdom"
                                },
                                {
                                    "GDP Per Capita": "45850",
                                    "Year": "2022",
                                    "country_Name": "United Kingdom"
                                },
                                {
                                    "GDP Per Capita": "36330",
                                    "Year": "2000",
                                    "country_Name": "United States"
                                },
                                {
                                    "GDP Per Capita": "37134",
                                    "Year": "2001",
                                    "country_Name": "United States"
                                },
                                {
                                    "GDP Per Capita": "37998",
                                    "Year": "2002",
                                    "country_Name": "United States"
                                },
                                {
                                    "GDP Per Capita": "39490",
                                    "Year": "2003",
                                    "country_Name": "United States"
                                },
                                {
                                    "GDP Per Capita": "41725",
                                    "Year": "2004",
                                    "country_Name": "United States"
                                },
                                {
                                    "GDP Per Capita": "44123",
                                    "Year": "2005",
                                    "country_Name": "United States"
                                },
                                {
                                    "GDP Per Capita": "46302",
                                    "Year": "2006",
                                    "country_Name": "United States"
                                },
                                {
                                    "GDP Per Capita": "48050",
                                    "Year": "2007",
                                    "country_Name": "United States"
                                },
                                {
                                    "GDP Per Capita": "48570",
                                    "Year": "2008",
                                    "country_Name": "United States"
                                },
                                {
                                    "GDP Per Capita": "47195",
                                    "Year": "2009",
                                    "country_Name": "United States"
                                },
                                {
                                    "GDP Per Capita": "48651",
                                    "Year": "2010",
                                    "country_Name": "United States"
                                },
                                {
                                    "GDP Per Capita": "50066",
                                    "Year": "2011",
                                    "country_Name": "United States"
                                },
                                {
                                    "GDP Per Capita": "51784",
                                    "Year": "2012",
                                    "country_Name": "United States"
                                },
                                {
                                    "GDP Per Capita": "53291",
                                    "Year": "2013",
                                    "country_Name": "United States"
                                },
                                {
                                    "GDP Per Capita": "55124",
                                    "Year": "2014",
                                    "country_Name": "United States"
                                },
                                {
                                    "GDP Per Capita": "56763",
                                    "Year": "2015",
                                    "country_Name": "United States"
                                },
                                {
                                    "GDP Per Capita": "57867",
                                    "Year": "2016",
                                    "country_Name": "United States"
                                },
                                {
                                    "GDP Per Capita": "59908",
                                    "Year": "2017",
                                    "country_Name": "United States"
                                },
                                {
                                    "GDP Per Capita": "62823",
                                    "Year": "2018",
                                    "country_Name": "United States"
                                },
                                {
                                    "GDP Per Capita": "65120",
                                    "Year": "2019",
                                    "country_Name": "United States"
                                },
                                {
                                    "GDP Per Capita": "63529",
                                    "Year": "2020",
                                    "country_Name": "United States"
                                },
                                {
                                    "GDP Per Capita": "70219",
                                    "Year": "2021",
                                    "country_Name": "United States"
                                },
                                {
                                    "GDP Per Capita": "76399",
                                    "Year": "2022",
                                    "country_Name": "United States"
                                }
                            ],
                            "schema": {
                                "fields": [
                                    {
                                        "name": "country_Name"
                                    },
                                    {
                                        "name": "Year"
                                    },
                                    {
                                        "name": "GDP Per Capita"
                                    }
                                ]
                            }
                        },
                        "text/html": [
                            "<table>\n",
                            "<tr><th>country_Name</th><th>Year</th><th>GDP Per Capita</th></tr>\n",
                            "<tr><td>Canada</td><td>2000</td><td>24271</td></tr>\n",
                            "<tr><td>Canada</td><td>2001</td><td>23821</td></tr>\n",
                            "<tr><td>Canada</td><td>2002</td><td>24255</td></tr>\n",
                            "<tr><td>Canada</td><td>2003</td><td>28300</td></tr>\n",
                            "<tr><td>Canada</td><td>2004</td><td>32144</td></tr>\n",
                            "<tr><td>Canada</td><td>2005</td><td>36383</td></tr>\n",
                            "<tr><td>Canada</td><td>2006</td><td>40504</td></tr>\n",
                            "<tr><td>Canada</td><td>2007</td><td>44660</td></tr>\n",
                            "<tr><td>Canada</td><td>2008</td><td>46711</td></tr>\n",
                            "<tr><td>Canada</td><td>2009</td><td>40876</td></tr>\n",
                            "<tr><td>Canada</td><td>2010</td><td>47562</td></tr>\n",
                            "<tr><td>Canada</td><td>2011</td><td>52224</td></tr>\n",
                            "<tr><td>Canada</td><td>2012</td><td>52669</td></tr>\n",
                            "<tr><td>Canada</td><td>2013</td><td>52635</td></tr>\n",
                            "<tr><td>Canada</td><td>2014</td><td>50956</td></tr>\n",
                            "<tr><td>Canada</td><td>2015</td><td>43596</td></tr>\n",
                            "<tr><td>Canada</td><td>2016</td><td>42316</td></tr>\n",
                            "<tr><td>Canada</td><td>2017</td><td>45129</td></tr>\n",
                            "<tr><td>Canada</td><td>2018</td><td>46548</td></tr>\n",
                            "<tr><td>Canada</td><td>2019</td><td>46374</td></tr>\n",
                            "<tr><td>Canada</td><td>2020</td><td>43350</td></tr>\n",
                            "<tr><td>Canada</td><td>2021</td><td>52359</td></tr>\n",
                            "<tr><td>Canada</td><td>2022</td><td>54966</td></tr>\n",
                            "<tr><td>China</td><td>2000</td><td>959</td></tr>\n",
                            "<tr><td>China</td><td>2001</td><td>1053</td></tr>\n",
                            "<tr><td>China</td><td>2002</td><td>1149</td></tr>\n",
                            "<tr><td>China</td><td>2003</td><td>1289</td></tr>\n",
                            "<tr><td>China</td><td>2004</td><td>1509</td></tr>\n",
                            "<tr><td>China</td><td>2005</td><td>1753</td></tr>\n",
                            "<tr><td>China</td><td>2006</td><td>2099</td></tr>\n",
                            "<tr><td>China</td><td>2007</td><td>2694</td></tr>\n",
                            "<tr><td>China</td><td>2008</td><td>3468</td></tr>\n",
                            "<tr><td>China</td><td>2009</td><td>3832</td></tr>\n",
                            "<tr><td>China</td><td>2010</td><td>4550</td></tr>\n",
                            "<tr><td>China</td><td>2011</td><td>5614</td></tr>\n",
                            "<tr><td>China</td><td>2012</td><td>6301</td></tr>\n",
                            "<tr><td>China</td><td>2013</td><td>7020</td></tr>\n",
                            "<tr><td>China</td><td>2014</td><td>7636</td></tr>\n",
                            "<tr><td>China</td><td>2015</td><td>8016</td></tr>\n",
                            "<tr><td>China</td><td>2016</td><td>8094</td></tr>\n",
                            "<tr><td>China</td><td>2017</td><td>8817</td></tr>\n",
                            "<tr><td>China</td><td>2018</td><td>9905</td></tr>\n",
                            "<tr><td>China</td><td>2019</td><td>10144</td></tr>\n",
                            "<tr><td>China</td><td>2020</td><td>10409</td></tr>\n",
                            "<tr><td>China</td><td>2021</td><td>12618</td></tr>\n",
                            "<tr><td>China</td><td>2022</td><td>12720</td></tr>\n",
                            "<tr><td>France</td><td>2000</td><td>22416</td></tr>\n",
                            "<tr><td>France</td><td>2001</td><td>22449</td></tr>\n",
                            "<tr><td>France</td><td>2002</td><td>24288</td></tr>\n",
                            "<tr><td>France</td><td>2003</td><td>29628</td></tr>\n",
                            "<tr><td>France</td><td>2004</td><td>33797</td></tr>\n",
                            "<tr><td>France</td><td>2005</td><td>34768</td></tr>\n",
                            "<tr><td>France</td><td>2006</td><td>36470</td></tr>\n",
                            "<tr><td>France</td><td>2007</td><td>41558</td></tr>\n",
                            "<tr><td>France</td><td>2008</td><td>45516</td></tr>\n",
                            "<tr><td>France</td><td>2009</td><td>41738</td></tr>\n",
                            "<tr><td>France</td><td>2010</td><td>40676</td></tr>\n",
                            "<tr><td>France</td><td>2011</td><td>43846</td></tr>\n",
                            "<tr><td>France</td><td>2012</td><td>40871</td></tr>\n",
                            "<tr><td>France</td><td>2013</td><td>42603</td></tr>\n",
                            "<tr><td>France</td><td>2014</td><td>43069</td></tr>\n",
                            "<tr><td>France</td><td>2015</td><td>36653</td></tr>\n",
                            "<tr><td>France</td><td>2016</td><td>37063</td></tr>\n",
                            "<tr><td>France</td><td>2017</td><td>38781</td></tr>\n",
                            "<tr><td>France</td><td>2018</td><td>41558</td></tr>\n",
                            "<tr><td>France</td><td>2019</td><td>40495</td></tr>\n",
                            "<tr><td>France</td><td>2020</td><td>39055</td></tr>\n",
                            "<tr><td>France</td><td>2021</td><td>43659</td></tr>\n",
                            "<tr><td>France</td><td>2022</td><td>40964</td></tr>\n",
                            "<tr><td>Germany</td><td>2000</td><td>23695</td></tr>\n",
                            "<tr><td>Germany</td><td>2001</td><td>23628</td></tr>\n",
                            "<tr><td>Germany</td><td>2002</td><td>25197</td></tr>\n",
                            "<tr><td>Germany</td><td>2003</td><td>30310</td></tr>\n",
                            "<tr><td>Germany</td><td>2004</td><td>34107</td></tr>\n",
                            "<tr><td>Germany</td><td>2005</td><td>34520</td></tr>\n",
                            "<tr><td>Germany</td><td>2006</td><td>36354</td></tr>\n",
                            "<tr><td>Germany</td><td>2007</td><td>41640</td></tr>\n",
                            "<tr><td>Germany</td><td>2008</td><td>45613</td></tr>\n",
                            "<tr><td>Germany</td><td>2009</td><td>41650</td></tr>\n",
                            "<tr><td>Germany</td><td>2010</td><td>41572</td></tr>\n",
                            "<tr><td>Germany</td><td>2011</td><td>46706</td></tr>\n",
                            "<tr><td>Germany</td><td>2012</td><td>43856</td></tr>\n",
                            "<tr><td>Germany</td><td>2013</td><td>46299</td></tr>\n",
                            "<tr><td>Germany</td><td>2014</td><td>48024</td></tr>\n",
                            "<tr><td>Germany</td><td>2015</td><td>41103</td></tr>\n",
                            "<tr><td>Germany</td><td>2016</td><td>42136</td></tr>\n",
                            "<tr><td>Germany</td><td>2017</td><td>44653</td></tr>\n",
                            "<tr><td>Germany</td><td>2018</td><td>47939</td></tr>\n",
                            "<tr><td>Germany</td><td>2019</td><td>46794</td></tr>\n",
                            "<tr><td>Germany</td><td>2020</td><td>46773</td></tr>\n",
                            "<tr><td>Germany</td><td>2021</td><td>51204</td></tr>\n",
                            "<tr><td>Germany</td><td>2022</td><td>48432</td></tr>\n",
                            "<tr><td>India</td><td>2000</td><td>442</td></tr>\n",
                            "<tr><td>India</td><td>2001</td><td>450</td></tr>\n",
                            "<tr><td>India</td><td>2002</td><td>469</td></tr>\n",
                            "<tr><td>India</td><td>2003</td><td>544</td></tr>\n",
                            "<tr><td>India</td><td>2004</td><td>624</td></tr>\n",
                            "<tr><td>India</td><td>2005</td><td>711</td></tr>\n",
                            "<tr><td>India</td><td>2006</td><td>802</td></tr>\n",
                            "<tr><td>India</td><td>2007</td><td>1023</td></tr>\n",
                            "<tr><td>India</td><td>2008</td><td>994</td></tr>\n",
                            "<tr><td>India</td><td>2009</td><td>1097</td></tr>\n",
                            "<tr><td>India</td><td>2010</td><td>1351</td></tr>\n",
                            "<tr><td>India</td><td>2011</td><td>1450</td></tr>\n",
                            "<tr><td>India</td><td>2012</td><td>1434</td></tr>\n",
                            "<tr><td>India</td><td>2013</td><td>1438</td></tr>\n",
                            "<tr><td>India</td><td>2014</td><td>1560</td></tr>\n",
                            "<tr><td>India</td><td>2015</td><td>1590</td></tr>\n",
                            "<tr><td>India</td><td>2016</td><td>1714</td></tr>\n",
                            "<tr><td>India</td><td>2017</td><td>1958</td></tr>\n",
                            "<tr><td>India</td><td>2018</td><td>1974</td></tr>\n",
                            "<tr><td>India</td><td>2019</td><td>2050</td></tr>\n",
                            "<tr><td>India</td><td>2020</td><td>1913</td></tr>\n",
                            "<tr><td>India</td><td>2021</td><td>2238</td></tr>\n",
                            "<tr><td>India</td><td>2022</td><td>2389</td></tr>\n",
                            "<tr><td>Italy</td><td>2000</td><td>20138</td></tr>\n",
                            "<tr><td>Italy</td><td>2001</td><td>20501</td></tr>\n",
                            "<tr><td>Italy</td><td>2002</td><td>22376</td></tr>\n",
                            "<tr><td>Italy</td><td>2003</td><td>27526</td></tr>\n",
                            "<tr><td>Italy</td><td>2004</td><td>31317</td></tr>\n",
                            "<tr><td>Italy</td><td>2005</td><td>32055</td></tr>\n",
                            "<tr><td>Italy</td><td>2006</td><td>33530</td></tr>\n",
                            "<tr><td>Italy</td><td>2007</td><td>37871</td></tr>\n",
                            "<tr><td>Italy</td><td>2008</td><td>40945</td></tr>\n",
                            "<tr><td>Italy</td><td>2009</td><td>37227</td></tr>\n",
                            "<tr><td>Italy</td><td>2010</td><td>36036</td></tr>\n",
                            "<tr><td>Italy</td><td>2011</td><td>38650</td></tr>\n",
                            "<tr><td>Italy</td><td>2012</td><td>35052</td></tr>\n",
                            "<tr><td>Italy</td><td>2013</td><td>35560</td></tr>\n",
                            "<tr><td>Italy</td><td>2014</td><td>35566</td></tr>\n",
                            "<tr><td>Italy</td><td>2015</td><td>30242</td></tr>\n",
                            "<tr><td>Italy</td><td>2016</td><td>30961</td></tr>\n",
                            "<tr><td>Italy</td><td>2017</td><td>32407</td></tr>\n",
                            "<tr><td>Italy</td><td>2018</td><td>34622</td></tr>\n",
                            "<tr><td>Italy</td><td>2019</td><td>33674</td></tr>\n",
                            "<tr><td>Italy</td><td>2020</td><td>31919</td></tr>\n",
                            "<tr><td>Italy</td><td>2021</td><td>35770</td></tr>\n",
                            "<tr><td>Italy</td><td>2022</td><td>34158</td></tr>\n",
                            "<tr><td>Japan</td><td>2000</td><td>39169</td></tr>\n",
                            "<tr><td>Japan</td><td>2001</td><td>34406</td></tr>\n",
                            "<tr><td>Japan</td><td>2002</td><td>32821</td></tr>\n",
                            "<tr><td>Japan</td><td>2003</td><td>35387</td></tr>\n",
                            "<tr><td>Japan</td><td>2004</td><td>38299</td></tr>\n",
                            "<tr><td>Japan</td><td>2005</td><td>37813</td></tr>\n",
                            "<tr><td>Japan</td><td>2006</td><td>35992</td></tr>\n",
                            "<tr><td>Japan</td><td>2007</td><td>35779</td></tr>\n",
                            "<tr><td>Japan</td><td>2008</td><td>39876</td></tr>\n",
                            "<tr><td>Japan</td><td>2009</td><td>41309</td></tr>\n",
                            "<tr><td>Japan</td><td>2010</td><td>44968</td></tr>\n",
                            "<tr><td>Japan</td><td>2011</td><td>48760</td></tr>\n",
                            "<tr><td>Japan</td><td>2012</td><td>49145</td></tr>\n",
                            "<tr><td>Japan</td><td>2013</td><td>40899</td></tr>\n",
                            "<tr><td>Japan</td><td>2014</td><td>38475</td></tr>\n",
                            "<tr><td>Japan</td><td>2015</td><td>34961</td></tr>\n",
                            "<tr><td>Japan</td><td>2016</td><td>39375</td></tr>\n",
                            "<tr><td>Japan</td><td>2017</td><td>38834</td></tr>\n",
                            "<tr><td>Japan</td><td>2018</td><td>39751</td></tr>\n",
                            "<tr><td>Japan</td><td>2019</td><td>40416</td></tr>\n",
                            "<tr><td>Japan</td><td>2020</td><td>39987</td></tr>\n",
                            "<tr><td>Japan</td><td>2021</td><td>39827</td></tr>\n",
                            "<tr><td>Japan</td><td>2022</td><td>33815</td></tr>\n",
                            "<tr><td>Russian Federation</td><td>2000</td><td>1772</td></tr>\n",
                            "<tr><td>Russian Federation</td><td>2001</td><td>2100</td></tr>\n",
                            "<tr><td>Russian Federation</td><td>2002</td><td>2378</td></tr>\n",
                            "<tr><td>Russian Federation</td><td>2003</td><td>2975</td></tr>\n",
                            "<tr><td>Russian Federation</td><td>2004</td><td>4102</td></tr>\n",
                            "<tr><td>Russian Federation</td><td>2005</td><td>5323</td></tr>\n",
                            "<tr><td>Russian Federation</td><td>2006</td><td>6920</td></tr>\n",
                            "<tr><td>Russian Federation</td><td>2007</td><td>9101</td></tr>\n",
                            "<tr><td>Russian Federation</td><td>2008</td><td>11635</td></tr>\n",
                            "<tr><td>Russian Federation</td><td>2009</td><td>8563</td></tr>\n",
                            "<tr><td>Russian Federation</td><td>2010</td><td>10675</td></tr>\n",
                            "<tr><td>Russian Federation</td><td>2011</td><td>14311</td></tr>\n",
                            "<tr><td>Russian Federation</td><td>2012</td><td>15421</td></tr>\n",
                            "<tr><td>Russian Federation</td><td>2013</td><td>15975</td></tr>\n",
                            "<tr><td>Russian Federation</td><td>2014</td><td>14318</td></tr>\n",
                            "<tr><td>Russian Federation</td><td>2015</td><td>9462</td></tr>\n",
                            "<tr><td>Russian Federation</td><td>2016</td><td>8846</td></tr>\n",
                            "<tr><td>Russian Federation</td><td>2017</td><td>10894</td></tr>\n",
                            "<tr><td>Russian Federation</td><td>2018</td><td>11471</td></tr>\n",
                            "<tr><td>Russian Federation</td><td>2019</td><td>11725</td></tr>\n",
                            "<tr><td>Russian Federation</td><td>2020</td><td>10363</td></tr>\n",
                            "<tr><td>Russian Federation</td><td>2021</td><td>12805</td></tr>\n",
                            "<tr><td>Russian Federation</td><td>2022</td><td>15607</td></tr>\n",
                            "<tr><td>United Kingdom</td><td>2000</td><td>28290</td></tr>\n",
                            "<tr><td>United Kingdom</td><td>2001</td><td>27889</td></tr>\n",
                            "<tr><td>United Kingdom</td><td>2002</td><td>30079</td></tr>\n",
                            "<tr><td>United Kingdom</td><td>2003</td><td>34481</td></tr>\n",
                            "<tr><td>United Kingdom</td><td>2004</td><td>40392</td></tr>\n",
                            "<tr><td>United Kingdom</td><td>2005</td><td>42132</td></tr>\n",
                            "<tr><td>United Kingdom</td><td>2006</td><td>44538</td></tr>\n",
                            "<tr><td>United Kingdom</td><td>2007</td><td>50438</td></tr>\n",
                            "<tr><td>United Kingdom</td><td>2008</td><td>47433</td></tr>\n",
                            "<tr><td>United Kingdom</td><td>2009</td><td>38820</td></tr>\n",
                            "<tr><td>United Kingdom</td><td>2010</td><td>39693</td></tr>\n",
                            "<tr><td>United Kingdom</td><td>2011</td><td>42151</td></tr>\n",
                            "<tr><td>United Kingdom</td><td>2012</td><td>42486</td></tr>\n",
                            "<tr><td>United Kingdom</td><td>2013</td><td>43449</td></tr>\n",
                            "<tr><td>United Kingdom</td><td>2014</td><td>47448</td></tr>\n",
                            "<tr><td>United Kingdom</td><td>2015</td><td>45071</td></tr>\n",
                            "<tr><td>United Kingdom</td><td>2016</td><td>41146</td></tr>\n",
                            "<tr><td>United Kingdom</td><td>2017</td><td>40623</td></tr>\n",
                            "<tr><td>United Kingdom</td><td>2018</td><td>43306</td></tr>\n",
                            "<tr><td>United Kingdom</td><td>2019</td><td>42747</td></tr>\n",
                            "<tr><td>United Kingdom</td><td>2020</td><td>40318</td></tr>\n",
                            "<tr><td>United Kingdom</td><td>2021</td><td>46586</td></tr>\n",
                            "<tr><td>United Kingdom</td><td>2022</td><td>45850</td></tr>\n",
                            "<tr><td>United States</td><td>2000</td><td>36330</td></tr>\n",
                            "<tr><td>United States</td><td>2001</td><td>37134</td></tr>\n",
                            "<tr><td>United States</td><td>2002</td><td>37998</td></tr>\n",
                            "<tr><td>United States</td><td>2003</td><td>39490</td></tr>\n",
                            "<tr><td>United States</td><td>2004</td><td>41725</td></tr>\n",
                            "<tr><td>United States</td><td>2005</td><td>44123</td></tr>\n",
                            "<tr><td>United States</td><td>2006</td><td>46302</td></tr>\n",
                            "<tr><td>United States</td><td>2007</td><td>48050</td></tr>\n",
                            "<tr><td>United States</td><td>2008</td><td>48570</td></tr>\n",
                            "<tr><td>United States</td><td>2009</td><td>47195</td></tr>\n",
                            "<tr><td>United States</td><td>2010</td><td>48651</td></tr>\n",
                            "<tr><td>United States</td><td>2011</td><td>50066</td></tr>\n",
                            "<tr><td>United States</td><td>2012</td><td>51784</td></tr>\n",
                            "<tr><td>United States</td><td>2013</td><td>53291</td></tr>\n",
                            "<tr><td>United States</td><td>2014</td><td>55124</td></tr>\n",
                            "<tr><td>United States</td><td>2015</td><td>56763</td></tr>\n",
                            "<tr><td>United States</td><td>2016</td><td>57867</td></tr>\n",
                            "<tr><td>United States</td><td>2017</td><td>59908</td></tr>\n",
                            "<tr><td>United States</td><td>2018</td><td>62823</td></tr>\n",
                            "<tr><td>United States</td><td>2019</td><td>65120</td></tr>\n",
                            "<tr><td>United States</td><td>2020</td><td>63529</td></tr>\n",
                            "<tr><td>United States</td><td>2021</td><td>70219</td></tr>\n",
                            "<tr><td>United States</td><td>2022</td><td>76399</td></tr>\n",
                            "</table>"
                        ]
                    },
                    "execution_count": 5,
                    "metadata": {},
                    "output_type": "execute_result"
                }
            ],
            "source": [
                "Select country_Name, Year, round(GDP_Per_Capita, 0) as 'GDP Per Capita'\n",
                "from Countries \n",
                "where Country_Name in ('United States','China','Japan','Germany','India','United Kingdom','France','Russian Federation','Canada','Italy') \n",
                "      and year >= 2000"
            ]
        },
        {
            "attachments": {},
            "cell_type": "markdown",
            "metadata": {
                "azdata_cell_guid": "24bc66b0-20b0-41ea-93b5-d45a706590bb"
            },
            "source": [
                "## Educational Spendings Per Capita"
            ]
        },
        {
            "cell_type": "code",
            "execution_count": 7,
            "metadata": {
                "azdata_cell_guid": "588f472c-58a2-4a08-bbe2-ae30313db248",
                "language": "sql"
            },
            "outputs": [
                {
                    "data": {
                        "text/html": [
                            "(10 rows affected)"
                        ]
                    },
                    "metadata": {},
                    "output_type": "display_data"
                },
                {
                    "data": {
                        "text/html": [
                            "Total execution time: 00:00:00.013"
                        ]
                    },
                    "metadata": {},
                    "output_type": "display_data"
                },
                {
                    "data": {
                        "application/vnd.dataresource+json": {
                            "data": [
                                {
                                    "Country_Name": "United States",
                                    "Educational Spending Per Person": "11005"
                                },
                                {
                                    "Country_Name": "Canada",
                                    "Educational Spending Per Person": "6641"
                                },
                                {
                                    "Country_Name": "United Kingdom",
                                    "Educational Spending Per Person": "5871"
                                },
                                {
                                    "Country_Name": "Germany",
                                    "Educational Spending Per Person": "5119"
                                },
                                {
                                    "Country_Name": "France",
                                    "Educational Spending Per Person": "3961"
                                },
                                {
                                    "Country_Name": "Italy",
                                    "Educational Spending Per Person": "2974"
                                },
                                {
                                    "Country_Name": "Japan",
                                    "Educational Spending Per Person": "2791"
                                },
                                {
                                    "Country_Name": "Russian Federation",
                                    "Educational Spending Per Person": "1752"
                                },
                                {
                                    "Country_Name": "China",
                                    "Educational Spending Per Person": "1526"
                                },
                                {
                                    "Country_Name": "India",
                                    "Educational Spending Per Person": "336"
                                }
                            ],
                            "schema": {
                                "fields": [
                                    {
                                        "name": "Country_Name"
                                    },
                                    {
                                        "name": "Educational Spending Per Person"
                                    }
                                ]
                            }
                        },
                        "text/html": [
                            "<table>\n",
                            "<tr><th>Country_Name</th><th>Educational Spending Per Person</th></tr>\n",
                            "<tr><td>United States</td><td>11005</td></tr>\n",
                            "<tr><td>Canada</td><td>6641</td></tr>\n",
                            "<tr><td>United Kingdom</td><td>5871</td></tr>\n",
                            "<tr><td>Germany</td><td>5119</td></tr>\n",
                            "<tr><td>France</td><td>3961</td></tr>\n",
                            "<tr><td>Italy</td><td>2974</td></tr>\n",
                            "<tr><td>Japan</td><td>2791</td></tr>\n",
                            "<tr><td>Russian Federation</td><td>1752</td></tr>\n",
                            "<tr><td>China</td><td>1526</td></tr>\n",
                            "<tr><td>India</td><td>336</td></tr>\n",
                            "</table>"
                        ]
                    },
                    "execution_count": 7,
                    "metadata": {},
                    "output_type": "execute_result"
                }
            ],
            "source": [
                "With Top_10 as\n",
                "(\n",
                "Select *\n",
                "from Countries \n",
                "where Country_Name in ('United States','China','Japan','Germany','India','United Kingdom','France','Russian Federation','Canada','Italy') and year = 2022\n",
                ")\n",
                "Select Country_Name, round(Education_Expenditure/Population,0) as 'Educational Spending Per Person' from Top_10\n",
                "order by 2 desc\n"
            ]
        },
        {
            "attachments": {},
            "cell_type": "markdown",
            "metadata": {
                "azdata_cell_guid": "ae86137b-f03c-4416-8b2a-359efaac33a0"
            },
            "source": [
                "## GDP per Capita Of Top 10 Economies in Year 2022"
            ]
        },
        {
            "cell_type": "code",
            "execution_count": 12,
            "metadata": {
                "azdata_cell_guid": "ced384a2-8374-43db-a3f3-f218810845a1",
                "language": "sql"
            },
            "outputs": [
                {
                    "data": {
                        "text/html": [
                            "(10 rows affected)"
                        ]
                    },
                    "metadata": {},
                    "output_type": "display_data"
                },
                {
                    "data": {
                        "text/html": [
                            "Total execution time: 00:00:00.022"
                        ]
                    },
                    "metadata": {},
                    "output_type": "display_data"
                },
                {
                    "data": {
                        "application/vnd.dataresource+json": {
                            "data": [
                                {
                                    "Country_Name": "United States",
                                    "GDP Per Capita": "76399"
                                },
                                {
                                    "Country_Name": "Canada",
                                    "GDP Per Capita": "54966"
                                },
                                {
                                    "Country_Name": "Germany",
                                    "GDP Per Capita": "48432"
                                },
                                {
                                    "Country_Name": "United Kingdom",
                                    "GDP Per Capita": "45850"
                                },
                                {
                                    "Country_Name": "France",
                                    "GDP Per Capita": "40964"
                                },
                                {
                                    "Country_Name": "Italy",
                                    "GDP Per Capita": "34158"
                                },
                                {
                                    "Country_Name": "Japan",
                                    "GDP Per Capita": "33815"
                                },
                                {
                                    "Country_Name": "Russian Federation",
                                    "GDP Per Capita": "15607"
                                },
                                {
                                    "Country_Name": "China",
                                    "GDP Per Capita": "12720"
                                },
                                {
                                    "Country_Name": "India",
                                    "GDP Per Capita": "2389"
                                }
                            ],
                            "schema": {
                                "fields": [
                                    {
                                        "name": "Country_Name"
                                    },
                                    {
                                        "name": "GDP Per Capita"
                                    }
                                ]
                            }
                        },
                        "text/html": [
                            "<table>\n",
                            "<tr><th>Country_Name</th><th>GDP Per Capita</th></tr>\n",
                            "<tr><td>United States</td><td>76399</td></tr>\n",
                            "<tr><td>Canada</td><td>54966</td></tr>\n",
                            "<tr><td>Germany</td><td>48432</td></tr>\n",
                            "<tr><td>United Kingdom</td><td>45850</td></tr>\n",
                            "<tr><td>France</td><td>40964</td></tr>\n",
                            "<tr><td>Italy</td><td>34158</td></tr>\n",
                            "<tr><td>Japan</td><td>33815</td></tr>\n",
                            "<tr><td>Russian Federation</td><td>15607</td></tr>\n",
                            "<tr><td>China</td><td>12720</td></tr>\n",
                            "<tr><td>India</td><td>2389</td></tr>\n",
                            "</table>"
                        ]
                    },
                    "execution_count": 12,
                    "metadata": {},
                    "output_type": "execute_result"
                }
            ],
            "source": [
                "Select Country_Name, round(GDP_Per_Capita,0) as 'GDP Per Capita'\n",
                "from Countries \n",
                "where Country_Name in ('United States','China','Japan','Germany','India','United Kingdom','France','Russian Federation','Canada','Italy') \n",
                "      and year = 2022\n",
                "Order by 2 desc"
            ]
        },
        {
            "attachments": {},
            "cell_type": "markdown",
            "metadata": {
                "azdata_cell_guid": "6ca47fe5-c7a4-4090-abc0-fdea867963e1"
            },
            "source": [
                "## Import, Export, and Net-Trade In Million"
            ]
        },
        {
            "cell_type": "code",
            "execution_count": 14,
            "metadata": {
                "azdata_cell_guid": "d5e2340f-af10-4ee9-9283-cfe73c75cad8",
                "language": "sql"
            },
            "outputs": [
                {
                    "data": {
                        "text/html": [
                            "(10 rows affected)"
                        ]
                    },
                    "metadata": {},
                    "output_type": "display_data"
                },
                {
                    "data": {
                        "text/html": [
                            "Total execution time: 00:00:00.013"
                        ]
                    },
                    "metadata": {},
                    "output_type": "display_data"
                },
                {
                    "data": {
                        "application/vnd.dataresource+json": {
                            "data": [
                                {
                                    "Country_Name": "United States",
                                    "Export In Million": "2920",
                                    "Import In Million": "3874",
                                    "Net Trade In Million": "-954"
                                },
                                {
                                    "Country_Name": "China",
                                    "Export In Million": "3714",
                                    "Import In Million": "3138",
                                    "Net Trade In Million": "577"
                                },
                                {
                                    "Country_Name": "Japan",
                                    "Export In Million": "635",
                                    "Import In Million": "623",
                                    "Net Trade In Million": "11"
                                },
                                {
                                    "Country_Name": "Germany",
                                    "Export In Million": "2050",
                                    "Import In Million": "1966",
                                    "Net Trade In Million": "84"
                                },
                                {
                                    "Country_Name": "India",
                                    "Export In Million": "760",
                                    "Import In Million": "911",
                                    "Net Trade In Million": "-151"
                                },
                                {
                                    "Country_Name": "United Kingdom",
                                    "Export In Million": "1005",
                                    "Import In Million": "1112",
                                    "Net Trade In Million": "-107"
                                },
                                {
                                    "Country_Name": "France",
                                    "Export In Million": "947",
                                    "Import In Million": "1061",
                                    "Net Trade In Million": "-115"
                                },
                                {
                                    "Country_Name": "Russian Federation",
                                    "Export In Million": "632",
                                    "Import In Million": "349",
                                    "Net Trade In Million": "282"
                                },
                                {
                                    "Country_Name": "Canada",
                                    "Export In Million": "722",
                                    "Import In Million": "718",
                                    "Net Trade In Million": "4"
                                },
                                {
                                    "Country_Name": "Italy",
                                    "Export In Million": "747",
                                    "Import In Million": "778",
                                    "Net Trade In Million": "-31"
                                }
                            ],
                            "schema": {
                                "fields": [
                                    {
                                        "name": "Country_Name"
                                    },
                                    {
                                        "name": "Import In Million"
                                    },
                                    {
                                        "name": "Export In Million"
                                    },
                                    {
                                        "name": "Net Trade In Million"
                                    }
                                ]
                            }
                        },
                        "text/html": [
                            "<table>\n",
                            "<tr><th>Country_Name</th><th>Import In Million</th><th>Export In Million</th><th>Net Trade In Million</th></tr>\n",
                            "<tr><td>United States</td><td>3874</td><td>2920</td><td>-954</td></tr>\n",
                            "<tr><td>China</td><td>3138</td><td>3714</td><td>577</td></tr>\n",
                            "<tr><td>Japan</td><td>623</td><td>635</td><td>11</td></tr>\n",
                            "<tr><td>Germany</td><td>1966</td><td>2050</td><td>84</td></tr>\n",
                            "<tr><td>India</td><td>911</td><td>760</td><td>-151</td></tr>\n",
                            "<tr><td>United Kingdom</td><td>1112</td><td>1005</td><td>-107</td></tr>\n",
                            "<tr><td>France</td><td>1061</td><td>947</td><td>-115</td></tr>\n",
                            "<tr><td>Russian Federation</td><td>349</td><td>632</td><td>282</td></tr>\n",
                            "<tr><td>Canada</td><td>718</td><td>722</td><td>4</td></tr>\n",
                            "<tr><td>Italy</td><td>778</td><td>747</td><td>-31</td></tr>\n",
                            "</table>"
                        ]
                    },
                    "execution_count": 14,
                    "metadata": {},
                    "output_type": "execute_result"
                }
            ],
            "source": [
                "with top_10_economies as\n",
                "(\n",
                "Select TOP 10 *\n",
                "From Countries\n",
                "Where year = 2022\n",
                "order by GDP desc\n",
                ")\n",
                "\n",
                "Select Country_Name, \n",
                "       round(Import/1000000000,0) as 'Import In Million', \n",
                "       round(Export/1000000000,0) as 'Export In Million',\n",
                "\t   round((Export-Import)/1000000000,0) as 'Net Trade In Million'\n",
                "from top_10_economies"
            ]
        },
        {
            "attachments": {},
            "cell_type": "markdown",
            "metadata": {
                "azdata_cell_guid": "1b420863-a76b-45f8-873d-f8168cef7dfa"
            },
            "source": [
                "## Spendings On Different Sectors"
            ]
        },
        {
            "cell_type": "code",
            "execution_count": 15,
            "metadata": {
                "azdata_cell_guid": "033323f8-bed8-4490-b059-5b0f66b6d6c8",
                "language": "sql"
            },
            "outputs": [
                {
                    "data": {
                        "text/html": [
                            "(10 rows affected)"
                        ]
                    },
                    "metadata": {},
                    "output_type": "display_data"
                },
                {
                    "data": {
                        "text/html": [
                            "Total execution time: 00:00:00.012"
                        ]
                    },
                    "metadata": {},
                    "output_type": "display_data"
                },
                {
                    "data": {
                        "application/vnd.dataresource+json": {
                            "data": [
                                {
                                    "Agricultural Spendings": "1",
                                    "Country_Name": "United States",
                                    "Educational Spendings": "14",
                                    "Health Spendings": "16"
                                },
                                {
                                    "Agricultural Spendings": "7",
                                    "Country_Name": "China",
                                    "Educational Spendings": "12",
                                    "Health Spendings": "5"
                                },
                                {
                                    "Agricultural Spendings": "1",
                                    "Country_Name": "Japan",
                                    "Educational Spendings": "8",
                                    "Health Spendings": "9"
                                },
                                {
                                    "Agricultural Spendings": "1",
                                    "Country_Name": "Germany",
                                    "Educational Spendings": "11",
                                    "Health Spendings": "11"
                                },
                                {
                                    "Agricultural Spendings": "17",
                                    "Country_Name": "India",
                                    "Educational Spendings": "14",
                                    "Health Spendings": "4"
                                },
                                {
                                    "Agricultural Spendings": "1",
                                    "Country_Name": "United Kingdom",
                                    "Educational Spendings": "13",
                                    "Health Spendings": "9"
                                },
                                {
                                    "Agricultural Spendings": "2",
                                    "Country_Name": "France",
                                    "Educational Spendings": "10",
                                    "Health Spendings": "11"
                                },
                                {
                                    "Agricultural Spendings": "4",
                                    "Country_Name": "Russian Federation",
                                    "Educational Spendings": "11",
                                    "Health Spendings": "5"
                                },
                                {
                                    "Agricultural Spendings": "2",
                                    "Country_Name": "Canada",
                                    "Educational Spendings": "12",
                                    "Health Spendings": "10"
                                },
                                {
                                    "Agricultural Spendings": "2",
                                    "Country_Name": "Italy",
                                    "Educational Spendings": "9",
                                    "Health Spendings": "9"
                                }
                            ],
                            "schema": {
                                "fields": [
                                    {
                                        "name": "Country_Name"
                                    },
                                    {
                                        "name": "Health Spendings"
                                    },
                                    {
                                        "name": "Educational Spendings"
                                    },
                                    {
                                        "name": "Agricultural Spendings"
                                    }
                                ]
                            }
                        },
                        "text/html": [
                            "<table>\n",
                            "<tr><th>Country_Name</th><th>Health Spendings</th><th>Educational Spendings</th><th>Agricultural Spendings</th></tr>\n",
                            "<tr><td>United States</td><td>16</td><td>14</td><td>1</td></tr>\n",
                            "<tr><td>China</td><td>5</td><td>12</td><td>7</td></tr>\n",
                            "<tr><td>Japan</td><td>9</td><td>8</td><td>1</td></tr>\n",
                            "<tr><td>Germany</td><td>11</td><td>11</td><td>1</td></tr>\n",
                            "<tr><td>India</td><td>4</td><td>14</td><td>17</td></tr>\n",
                            "<tr><td>United Kingdom</td><td>9</td><td>13</td><td>1</td></tr>\n",
                            "<tr><td>France</td><td>11</td><td>10</td><td>2</td></tr>\n",
                            "<tr><td>Russian Federation</td><td>5</td><td>11</td><td>4</td></tr>\n",
                            "<tr><td>Canada</td><td>10</td><td>12</td><td>2</td></tr>\n",
                            "<tr><td>Italy</td><td>9</td><td>9</td><td>2</td></tr>\n",
                            "</table>"
                        ]
                    },
                    "execution_count": 15,
                    "metadata": {},
                    "output_type": "execute_result"
                }
            ],
            "source": [
                "with top_10_economies as\n",
                "(\n",
                "Select TOP 10 *\n",
                "From Countries\n",
                "Where year = 2022\n",
                "order by GDP desc\n",
                ")\n",
                "Select Country_Name, \n",
                "       round(Health_Expenditure_GDP,0) as 'Health Spendings',   \n",
                "\t   round(Education_Expenditure_GDP,0)'Educational Spendings', \n",
                "\t   round(Agriculture_GDP,0) 'Agricultural Spendings'\n",
                "from top_10_economies"
            ]
        }
    ],
    "metadata": {
        "kernelspec": {
            "display_name": "SQL",
            "language": "sql",
            "name": "SQL"
        },
        "language_info": {
            "name": "sql",
            "version": ""
        }
    },
    "nbformat": 4,
    "nbformat_minor": 2
}
